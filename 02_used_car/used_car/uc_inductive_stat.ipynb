{
 "cells": [
  {
   "attachments": {},
   "cell_type": "markdown",
   "id": "2bd6109e-bab5-4c16-9ba6-66df01b3c248",
   "metadata": {},
   "source": [
    "## Hypothesen\n",
    "Nullhypothese (H0): „Der Preis für einen Gebrauchtwagen ist nicht vom Hersteller abhängig“\n",
    "\n",
    "Alternativhypothese (H1): „Der Preis für einen Gebrauchtwagen ist vom Hersteller abhängig“\n"
   ]
  },
  {
   "cell_type": "code",
   "execution_count": 3,
   "id": "5735e7fe-bc80-47dc-9e0e-4f6709652852",
   "metadata": {},
   "outputs": [],
   "source": [
    "import pandas as pd\n",
    "import matplotlib.pyplot as plt\n",
    "import seaborn as sns"
   ]
  },
  {
   "cell_type": "code",
   "execution_count": 17,
   "id": "beb47e24-686b-4da6-b804-ca8343a15de4",
   "metadata": {},
   "outputs": [],
   "source": [
    "#uc_audi = pd.read_csv(\"audi.csv\")\n",
    "uc_bmw = pd.read_csv(\"bmw_sample.csv\")\n",
    "uc_ford = pd.read_csv(\"ford_sample.csv\")"
   ]
  },
  {
   "cell_type": "code",
   "execution_count": 18,
   "id": "026b2d0e-a8fa-4dc3-b204-c1af3f3b20ec",
   "metadata": {},
   "outputs": [
    {
     "data": {
      "text/html": [
       "<div>\n",
       "<style scoped>\n",
       "    .dataframe tbody tr th:only-of-type {\n",
       "        vertical-align: middle;\n",
       "    }\n",
       "\n",
       "    .dataframe tbody tr th {\n",
       "        vertical-align: top;\n",
       "    }\n",
       "\n",
       "    .dataframe thead th {\n",
       "        text-align: right;\n",
       "    }\n",
       "</style>\n",
       "<table border=\"1\" class=\"dataframe\">\n",
       "  <thead>\n",
       "    <tr style=\"text-align: right;\">\n",
       "      <th></th>\n",
       "      <th>year</th>\n",
       "      <th>price</th>\n",
       "      <th>mileage</th>\n",
       "      <th>tax</th>\n",
       "      <th>mpg</th>\n",
       "      <th>engineSize</th>\n",
       "    </tr>\n",
       "  </thead>\n",
       "  <tbody>\n",
       "    <tr>\n",
       "      <th>count</th>\n",
       "      <td>50.000000</td>\n",
       "      <td>50.000000</td>\n",
       "      <td>50.000000</td>\n",
       "      <td>50.00000</td>\n",
       "      <td>50.000000</td>\n",
       "      <td>50.000000</td>\n",
       "    </tr>\n",
       "    <tr>\n",
       "      <th>mean</th>\n",
       "      <td>2017.040000</td>\n",
       "      <td>22918.660000</td>\n",
       "      <td>27533.160000</td>\n",
       "      <td>148.00000</td>\n",
       "      <td>61.930000</td>\n",
       "      <td>2.170000</td>\n",
       "    </tr>\n",
       "    <tr>\n",
       "      <th>std</th>\n",
       "      <td>1.916204</td>\n",
       "      <td>9011.424123</td>\n",
       "      <td>22380.877264</td>\n",
       "      <td>49.04184</td>\n",
       "      <td>61.664352</td>\n",
       "      <td>0.611205</td>\n",
       "    </tr>\n",
       "    <tr>\n",
       "      <th>min</th>\n",
       "      <td>2010.000000</td>\n",
       "      <td>9249.000000</td>\n",
       "      <td>10.000000</td>\n",
       "      <td>30.00000</td>\n",
       "      <td>34.000000</td>\n",
       "      <td>0.000000</td>\n",
       "    </tr>\n",
       "    <tr>\n",
       "      <th>25%</th>\n",
       "      <td>2016.000000</td>\n",
       "      <td>15839.750000</td>\n",
       "      <td>9150.250000</td>\n",
       "      <td>145.00000</td>\n",
       "      <td>44.100000</td>\n",
       "      <td>2.000000</td>\n",
       "    </tr>\n",
       "    <tr>\n",
       "      <th>50%</th>\n",
       "      <td>2017.000000</td>\n",
       "      <td>19997.500000</td>\n",
       "      <td>23452.500000</td>\n",
       "      <td>145.00000</td>\n",
       "      <td>52.300000</td>\n",
       "      <td>2.000000</td>\n",
       "    </tr>\n",
       "    <tr>\n",
       "      <th>75%</th>\n",
       "      <td>2019.000000</td>\n",
       "      <td>29732.500000</td>\n",
       "      <td>39547.000000</td>\n",
       "      <td>150.00000</td>\n",
       "      <td>58.900000</td>\n",
       "      <td>3.000000</td>\n",
       "    </tr>\n",
       "    <tr>\n",
       "      <th>max</th>\n",
       "      <td>2019.000000</td>\n",
       "      <td>44980.000000</td>\n",
       "      <td>94938.000000</td>\n",
       "      <td>300.00000</td>\n",
       "      <td>470.800000</td>\n",
       "      <td>3.000000</td>\n",
       "    </tr>\n",
       "  </tbody>\n",
       "</table>\n",
       "</div>"
      ],
      "text/plain": [
       "              year         price       mileage        tax         mpg  \\\n",
       "count    50.000000     50.000000     50.000000   50.00000   50.000000   \n",
       "mean   2017.040000  22918.660000  27533.160000  148.00000   61.930000   \n",
       "std       1.916204   9011.424123  22380.877264   49.04184   61.664352   \n",
       "min    2010.000000   9249.000000     10.000000   30.00000   34.000000   \n",
       "25%    2016.000000  15839.750000   9150.250000  145.00000   44.100000   \n",
       "50%    2017.000000  19997.500000  23452.500000  145.00000   52.300000   \n",
       "75%    2019.000000  29732.500000  39547.000000  150.00000   58.900000   \n",
       "max    2019.000000  44980.000000  94938.000000  300.00000  470.800000   \n",
       "\n",
       "       engineSize  \n",
       "count   50.000000  \n",
       "mean     2.170000  \n",
       "std      0.611205  \n",
       "min      0.000000  \n",
       "25%      2.000000  \n",
       "50%      2.000000  \n",
       "75%      3.000000  \n",
       "max      3.000000  "
      ]
     },
     "execution_count": 18,
     "metadata": {},
     "output_type": "execute_result"
    }
   ],
   "source": [
    "uc_bmw.describe()"
   ]
  },
  {
   "cell_type": "code",
   "execution_count": 19,
   "id": "bf220010-407a-4281-8eb0-b2fb8ae989b7",
   "metadata": {},
   "outputs": [
    {
     "data": {
      "text/html": [
       "<div>\n",
       "<style scoped>\n",
       "    .dataframe tbody tr th:only-of-type {\n",
       "        vertical-align: middle;\n",
       "    }\n",
       "\n",
       "    .dataframe tbody tr th {\n",
       "        vertical-align: top;\n",
       "    }\n",
       "\n",
       "    .dataframe thead th {\n",
       "        text-align: right;\n",
       "    }\n",
       "</style>\n",
       "<table border=\"1\" class=\"dataframe\">\n",
       "  <thead>\n",
       "    <tr style=\"text-align: right;\">\n",
       "      <th></th>\n",
       "      <th>year</th>\n",
       "      <th>price</th>\n",
       "      <th>mileage</th>\n",
       "      <th>tax</th>\n",
       "      <th>mpg</th>\n",
       "      <th>engineSize</th>\n",
       "    </tr>\n",
       "  </thead>\n",
       "  <tbody>\n",
       "    <tr>\n",
       "      <th>count</th>\n",
       "      <td>50.000000</td>\n",
       "      <td>50.000000</td>\n",
       "      <td>50.000000</td>\n",
       "      <td>50.000000</td>\n",
       "      <td>50.000000</td>\n",
       "      <td>50.000000</td>\n",
       "    </tr>\n",
       "    <tr>\n",
       "      <th>mean</th>\n",
       "      <td>2016.560000</td>\n",
       "      <td>12107.700000</td>\n",
       "      <td>28090.220000</td>\n",
       "      <td>114.600000</td>\n",
       "      <td>57.622000</td>\n",
       "      <td>1.488000</td>\n",
       "    </tr>\n",
       "    <tr>\n",
       "      <th>std</th>\n",
       "      <td>2.313757</td>\n",
       "      <td>4844.897586</td>\n",
       "      <td>25836.320256</td>\n",
       "      <td>65.331494</td>\n",
       "      <td>11.496003</td>\n",
       "      <td>0.397256</td>\n",
       "    </tr>\n",
       "    <tr>\n",
       "      <th>min</th>\n",
       "      <td>2009.000000</td>\n",
       "      <td>2725.000000</td>\n",
       "      <td>32.000000</td>\n",
       "      <td>0.000000</td>\n",
       "      <td>31.000000</td>\n",
       "      <td>1.000000</td>\n",
       "    </tr>\n",
       "    <tr>\n",
       "      <th>25%</th>\n",
       "      <td>2016.000000</td>\n",
       "      <td>8720.000000</td>\n",
       "      <td>10940.750000</td>\n",
       "      <td>53.750000</td>\n",
       "      <td>49.125000</td>\n",
       "      <td>1.000000</td>\n",
       "    </tr>\n",
       "    <tr>\n",
       "      <th>50%</th>\n",
       "      <td>2017.000000</td>\n",
       "      <td>11349.000000</td>\n",
       "      <td>21549.500000</td>\n",
       "      <td>145.000000</td>\n",
       "      <td>57.700000</td>\n",
       "      <td>1.500000</td>\n",
       "    </tr>\n",
       "    <tr>\n",
       "      <th>75%</th>\n",
       "      <td>2018.000000</td>\n",
       "      <td>14996.250000</td>\n",
       "      <td>33568.250000</td>\n",
       "      <td>145.000000</td>\n",
       "      <td>65.700000</td>\n",
       "      <td>2.000000</td>\n",
       "    </tr>\n",
       "    <tr>\n",
       "      <th>max</th>\n",
       "      <td>2019.000000</td>\n",
       "      <td>22998.000000</td>\n",
       "      <td>117000.000000</td>\n",
       "      <td>265.000000</td>\n",
       "      <td>88.300000</td>\n",
       "      <td>2.000000</td>\n",
       "    </tr>\n",
       "  </tbody>\n",
       "</table>\n",
       "</div>"
      ],
      "text/plain": [
       "              year         price        mileage         tax        mpg  \\\n",
       "count    50.000000     50.000000      50.000000   50.000000  50.000000   \n",
       "mean   2016.560000  12107.700000   28090.220000  114.600000  57.622000   \n",
       "std       2.313757   4844.897586   25836.320256   65.331494  11.496003   \n",
       "min    2009.000000   2725.000000      32.000000    0.000000  31.000000   \n",
       "25%    2016.000000   8720.000000   10940.750000   53.750000  49.125000   \n",
       "50%    2017.000000  11349.000000   21549.500000  145.000000  57.700000   \n",
       "75%    2018.000000  14996.250000   33568.250000  145.000000  65.700000   \n",
       "max    2019.000000  22998.000000  117000.000000  265.000000  88.300000   \n",
       "\n",
       "       engineSize  \n",
       "count   50.000000  \n",
       "mean     1.488000  \n",
       "std      0.397256  \n",
       "min      1.000000  \n",
       "25%      1.000000  \n",
       "50%      1.500000  \n",
       "75%      2.000000  \n",
       "max      2.000000  "
      ]
     },
     "execution_count": 19,
     "metadata": {},
     "output_type": "execute_result"
    }
   ],
   "source": [
    "uc_ford.describe()"
   ]
  },
  {
   "cell_type": "markdown",
   "id": "c07559af-aa66-4839-b766-5dc5216fb8f8",
   "metadata": {},
   "source": [
    "## Kolmogorov-Smirnov-Test (KS-Test)\n",
    "ist ein nichtparametrischer Test, der verwendet wird, um zu prüfen, ob zwei Stichproben aus der gleichen Verteilung stammen oder ob eine Stichprobe einer bestimmten Verteilung folgt. Es gibt zwei Hauptvarianten des Tests:\n",
    "\n",
    "Einseitiger KS-Test: Um zu testen, ob eine Stichprobe einer bestimmten Verteilung folgt.\n",
    "\n",
    "Zweiseitiger KS-Test: Um zu prüfen, ob zwei Stichproben aus derselben Verteilung stammen.\n",
    "\n",
    "In Python kannst du den Kolmogorov-Smirnov-Test mit der Bibliothek scipy durchführen. Hier zeige ich dir, wie du beide Varianten des Tests durchführen kannst."
   ]
  },
  {
   "cell_type": "markdown",
   "id": "b2f7b1ac-c255-4d31-8db3-a1b7cd32de5d",
   "metadata": {},
   "source": [
    "Der Kolmogorov-Smirnov-Test (KS-Test) wird verwendet, um zu testen, ob eine Stichprobe einer bestimmten Verteilung folgt oder um zwei Stichproben zu vergleichen. In Python kann dieser Test mit der Funktion ks_2samp() aus dem Modul scipy.stats für den Vergleich zweier Stichproben oder kstest() für den Vergleich einer Stichprobe mit einer theoretischen Verteilung durchgeführt werden.\n",
    "\n",
    "Hier ein einfaches Beispiel für den Kolmogorov-Smirnov-Test in Python, sowohl für den Vergleich zweier Stichproben als auch für den Vergleich einer Stichprobe mit einer Normalverteilung."
   ]
  },
  {
   "cell_type": "markdown",
   "id": "1b75f420-a5d1-4fea-9946-6717422cb307",
   "metadata": {},
   "source": [
    "## Test auf Unabhängigkeit"
   ]
  },
  {
   "cell_type": "code",
   "execution_count": 20,
   "id": "10bffff5-23bb-4919-b620-98666b0dde84",
   "metadata": {},
   "outputs": [
    {
     "name": "stdout",
     "output_type": "stream",
     "text": [
      "KS-Statistik: 0.62\n",
      "P-Wert: 2.623447502564397e-09\n",
      "Es gibt einen signifikanten Unterschied zwischen den beiden Stichproben. Die stichproben sind unabhängig\n"
     ]
    }
   ],
   "source": [
    "# Vergleich zweier Stichproben\n",
    "import numpy as np\n",
    "from scipy.stats import ks_2samp\n",
    "\n",
    "# Zwei Stichproben\n",
    "sample1 = uc_ford['price']\n",
    "sample2 = uc_bmw['price']\n",
    "\n",
    "# Kolmogorov-Smirnov-Test für den Vergleich der beiden Stichproben\n",
    "statistic, p_value = ks_2samp(sample1, sample2)\n",
    "\n",
    "print(f\"KS-Statistik: {statistic}\")\n",
    "print(f\"P-Wert: {p_value}\")\n",
    "\n",
    "# Wenn p < 0.05, lehnen wir die Nullhypothese ab\n",
    "if p_value < 0.05:\n",
    "    print(\"Es gibt einen signifikanten Unterschied zwischen den beiden Stichproben. Die stichproben sind unabhängig\")\n",
    "else:\n",
    "    print(\"Es gibt keinen signifikanten Unterschied zwischen den beiden Stichproben. Die stichproben sind unabhängig\")"
   ]
  },
  {
   "cell_type": "markdown",
   "id": "c6065438-f4a9-487c-82b6-8bc35913c175",
   "metadata": {},
   "source": [
    "stats.ks_2samp(data1, data2): Führt den Kolmogorov-Smirnov-Test durch, um zu prüfen, ob data1 und data2 aus der gleichen Verteilung stammen.\n",
    "\n",
    "ks_stat: Die KS-Statistik misst die größte Differenz zwischen den empirischen Verteilungsfunktionen der beiden Stichproben.\n",
    "\n",
    "p_value: Der p-Wert des Tests. Wenn dieser kleiner als das Signifikanzniveau ist, lehnt man die Nullhypothese ab und schließt, dass die beiden Stichproben nicht aus der gleichen Verteilung stammen.\n",
    "\n",
    "Interpretation des p-Werts\n",
    "Ein kleiner p-Wert (typischerweise kleiner als 0,05) weist darauf hin, dass die Nullhypothese abgelehnt werden kann. Das bedeutet, dass die Daten nicht der angenommenen Verteilung entsprechen (im Fall des Tests für eine Stichprobe) oder dass die beiden Stichproben unterschiedliche Verteilungen haben (im Fall des Tests für zwei Stichproben).\n",
    "\n",
    "Ein großer p-Wert bedeutet, dass es keine ausreichenden Beweise gibt, die Nullhypothese abzulehnen."
   ]
  },
  {
   "cell_type": "markdown",
   "id": "c40ebe34-e8c4-48ea-9b6a-6b81fff63d89",
   "metadata": {},
   "source": [
    "## Test auf Normaltverteilung"
   ]
  },
  {
   "cell_type": "markdown",
   "id": "f41e5994-42d7-4524-805d-283aaa5a0af6",
   "metadata": {},
   "source": [
    "### Vergleich einer Stichprobe mit einer theoretischen Normalverteilung:"
   ]
  },
  {
   "cell_type": "code",
   "execution_count": 23,
   "id": "fa4a5111-9b23-4be1-8e5a-7d4340e3eea5",
   "metadata": {},
   "outputs": [
    {
     "name": "stdout",
     "output_type": "stream",
     "text": [
      "KS-Statistik: 0.62\n",
      "P-Wert: 0.7335083728356168\n",
      "Die Stichprobe folgt einer Normalverteilung.\n"
     ]
    }
   ],
   "source": [
    "import numpy as np\n",
    "from scipy.stats import kstest\n",
    "\n",
    "# Stichprobe\n",
    "sample = uc_ford['price']\n",
    "\n",
    "# Kolmogorov-Smirnov-Test für den Vergleich der Stichprobe mit einer Normalverteilung\n",
    "#statistic, p_value = kstest(sample, 'norm')\n",
    "ks_stat, p_value = stats.kstest(uc_ford['price'], 'norm', args=(np.mean(uc_ford['price']), np.std(uc_ford['price'])))\n",
    "\n",
    "print(f\"KS-Statistik: {statistic}\")\n",
    "print(f\"P-Wert: {p_value}\")\n",
    "\n",
    "# Wenn p < 0.05, lehnen wir die Nullhypothese ab\n",
    "if p_value < 0.05:\n",
    "    print(\"Die Stichprobe weicht signifikant von einer Normalverteilung ab.\")\n",
    "else:\n",
    "    print(\"Die Stichprobe folgt einer Normalverteilung.\")"
   ]
  },
  {
   "cell_type": "code",
   "execution_count": 24,
   "id": "8416c8f8-0f1e-4270-b70a-a80aa1b53408",
   "metadata": {},
   "outputs": [
    {
     "name": "stdout",
     "output_type": "stream",
     "text": [
      "KS-Statistik: 0.62\n",
      "P-Wert: 0.11133939078802679\n",
      "Die Stichprobe folgt einer Normalverteilung.\n"
     ]
    }
   ],
   "source": [
    "import numpy as np\n",
    "from scipy.stats import kstest\n",
    "\n",
    "# Stichprobe\n",
    "sample = uc_bmw['price']\n",
    "\n",
    "# Kolmogorov-Smirnov-Test für den Vergleich der Stichprobe mit einer Normalverteilung\n",
    "#statistic, p_value = kstest(sample, 'norm')\n",
    "ks_stat, p_value = stats.kstest(uc_bmw['price'], 'norm', args=(np.mean(uc_bmw['price']), np.std(uc_bmw['price'])))\n",
    "\n",
    "print(f\"KS-Statistik: {statistic}\")\n",
    "print(f\"P-Wert: {p_value}\")\n",
    "\n",
    "# Wenn p < 0.05, lehnen wir die Nullhypothese ab\n",
    "if p_value < 0.05:\n",
    "    print(\"Die Stichprobe weicht signifikant von einer Normalverteilung ab.\")\n",
    "else:\n",
    "    print(\"Die Stichprobe folgt einer Normalverteilung.\")"
   ]
  },
  {
   "cell_type": "markdown",
   "id": "446229a1-6baf-4abe-ba87-df03e79b4e41",
   "metadata": {},
   "source": [
    "Erklärung:\n",
    "stats.kstest(data, 'norm'): Führt den Kolmogorov-Smirnov-Test durch, um zu prüfen, ob die Daten einer Normalverteilung folgen. Der zweite Parameter 'norm' bezeichnet die Normalverteilung.\n",
    "\n",
    "ks_stat: Die KS-Statistik misst die größte Differenz zwischen der empirischen Verteilungsfunktion der Daten und der theoretischen Verteilung.\n",
    "\n",
    "p_value: Der p-Wert des Tests. Wenn dieser Wert kleiner als ein Signifikanzniveau (z. B. 0,05) ist, lehnt man die Nullhypothese ab und schließt, dass die Stichprobe nicht der theoretischen Verteilung folgt."
   ]
  },
  {
   "cell_type": "markdown",
   "id": "86c0e7c1-d77b-4837-ad02-e59bc9dc5148",
   "metadata": {},
   "source": [
    "## Der Mann-Whitney-U-Test (auch als Wilcoxon-Rangsummentest bekannt) \n",
    "ist ein nicht-parametrischer Test, der verwendet wird, um zu überprüfen, ob zwei unabhängige Stichproben aus der gleichen Verteilung stammen, ohne die Annahme zu machen, dass die Daten einer bestimmten Verteilung folgen.\n",
    "\n",
    "In Python kann der Mann-Whitney-U-Test mit der Funktion mannwhitneyu() aus dem Modul scipy.stats durchgeführt werden.\n",
    "\n",
    "Hier ist ein Beispiel, wie man den Mann-Whitney-U-Test in Python durchführt:"
   ]
  },
  {
   "cell_type": "code",
   "execution_count": 25,
   "id": "07b33239-9f41-429e-aef4-43c049a56939",
   "metadata": {},
   "outputs": [
    {
     "name": "stdout",
     "output_type": "stream",
     "text": [
      "U-Statistik: 343.5\n",
      "P-Wert: 4.212804758208079e-10\n",
      "Es gibt einen signifikanten Unterschied zwischen den beiden Stichproben.\n"
     ]
    }
   ],
   "source": [
    "import numpy as np\n",
    "from scipy.stats import mannwhitneyu\n",
    "\n",
    "# Zwei unabhängige Stichproben\n",
    "ssample1 = uc_ford['price']\n",
    "sample2 = uc_bmw['price']\n",
    "\n",
    "# Mann-Whitney-U-Test durchführen\n",
    "statistic, p_value = mannwhitneyu(sample1, sample2)\n",
    "\n",
    "print(f\"U-Statistik: {statistic}\")\n",
    "print(f\"P-Wert: {p_value}\")\n",
    "\n",
    "# Wenn p < 0.05, lehnen wir die Nullhypothese ab\n",
    "if p_value < 0.05:\n",
    "    print(\"Es gibt einen signifikanten Unterschied zwischen den beiden Stichproben.\")\n",
    "else:\n",
    "    print(\"Es gibt keinen signifikanten Unterschied zwischen den beiden Stichproben.\")"
   ]
  },
  {
   "cell_type": "markdown",
   "id": "3c704e9d-1d08-43e2-9d05-aa0d4873470d",
   "metadata": {},
   "source": [
    "mannwhitneyu(sample1, sample2): Diese Funktion führt den Mann-Whitney-U-Test durch und vergleicht zwei unabhängige Stichproben. Sie gibt die U-Statistik und den p-Wert zurück.\n",
    "\n",
    "Die Nullhypothese des Tests lautet, dass es keinen signifikanten Unterschied zwischen den beiden Stichproben gibt, d. h., sie stammen aus der gleichen Verteilung.\n",
    "\n",
    "Wenn der p-Wert kleiner als 0,05 ist, lehnen wir die Nullhypothese ab und schließen, dass es einen signifikanten Unterschied zwischen den beiden Stichproben gibt."
   ]
  },
  {
   "cell_type": "markdown",
   "id": "b9475535-9251-43c6-81c1-12fe21e9aa80",
   "metadata": {},
   "source": [
    "## T-test für unabhängige Stichproben"
   ]
  },
  {
   "cell_type": "markdown",
   "id": "07ebd364-5330-4466-88ad-53829fffd01d",
   "metadata": {},
   "source": [
    "Ein t-Test für unabhängige Stichproben wird verwendet, um zu testen, ob es einen signifikanten Unterschied zwischen den Mittelwerten von zwei unabhängigen Gruppen gibt. Dieser Test setzt voraus, dass die beiden Gruppen normal verteilt sind und die Varianzen der beiden Gruppen gleich sind (Homogenität der Varianzen).\n",
    "\n",
    "In Python kannst du den t-Test für unabhängige Stichproben mit der Funktion ttest_ind() aus dem scipy.stats-Modul durchführen."
   ]
  },
  {
   "cell_type": "code",
   "execution_count": 31,
   "id": "72a39d4d-6ff0-4409-b834-523f9398864a",
   "metadata": {},
   "outputs": [
    {
     "name": "stdout",
     "output_type": "stream",
     "text": [
      "T-Wert: -7.4717081629152675\n",
      "P-Wert: 3.3385273734764833e-11\n",
      "Die Nullhypothese wird abgelehnt. Es gibt einen signifikanten Unterschied zwischen den Gruppen.\n"
     ]
    }
   ],
   "source": [
    "import numpy as np\n",
    "from scipy import stats\n",
    "\n",
    "# Beispiel-Daten für zwei unabhängige Gruppen\n",
    "gruppe_1 = uc_ford['price']\n",
    "gruppe_2 = uc_bmw['price']\n",
    "\n",
    "# Führe den t-Test durch\n",
    "t_stat, p_value = stats.ttest_ind(gruppe_1, gruppe_2)\n",
    "#t_stat, p_value = stats.ttest_ind(gruppe_1, gruppe_2, equal_var=False)\n",
    "\n",
    "# Ausgabe der Ergebnisse\n",
    "print(f\"T-Wert: {t_stat}\")\n",
    "print(f\"P-Wert: {p_value}\")\n",
    "\n",
    "# Interpretation des p-Werts\n",
    "alpha = 0.05  # Signifikanzniveau\n",
    "if p_value < alpha:\n",
    "    print(\"Die Nullhypothese wird abgelehnt. Es gibt einen signifikanten Unterschied zwischen den Gruppen.\")\n",
    "else:\n",
    "    print(\"Die Nullhypothese wird nicht abgelehnt. Es gibt keinen signifikanten Unterschied zwischen den Gruppen.\")\n"
   ]
  },
  {
   "cell_type": "markdown",
   "id": "72882cbd-6b49-49b8-9e68-fec4bb20ec2c",
   "metadata": {},
   "source": [
    "### Erklärung:\n",
    "stats.ttest_ind(gruppe_1, gruppe_2): Diese Funktion berechnet den t-Wert und den p-Wert für den t-Test der unabhängigen Stichproben.\n",
    "\n",
    "t-Wert: Ein Maß für die Größe des Unterschieds zwischen den Mittelwerten der beiden Gruppen relativ zur Streuung innerhalb der Gruppen.\n",
    "\n",
    "p-Wert: Der p-Wert gibt an, ob der Unterschied zwischen den Mittelwerten statistisch signifikant ist. Wenn der p-Wert kleiner als das Signifikanzniveau (typischerweise 0.05) ist, kannst du die Nullhypothese ablehnen und davon ausgehen, dass ein signifikanter Unterschied besteht.\n",
    "\n",
    "Alpha (α): Das Signifikanzniveau (häufig 0.05) ist die Grenze, unterhalb derer der p-Wert als statistisch signifikant betrachtet wird."
   ]
  },
  {
   "cell_type": "markdown",
   "id": "19eb9e8d-7f63-4a1d-b62b-810baf01b594",
   "metadata": {},
   "source": [
    "### Voraussetzungen:\n",
    "Normalverteilung: Der t-Test geht davon aus, dass beide Gruppen normal verteilt sind. Für kleine Stichprobengrößen kannst du einen Normalitätstest wie den Shapiro-Wilk-Test verwenden.\n",
    "\n",
    "Homogenität der Varianzen: Der t-Test geht davon aus, dass die Varianzen der beiden Gruppen gleich sind. "
   ]
  },
  {
   "cell_type": "markdown",
   "id": "6fb5407f-771e-4e20-918e-a76fe31b092c",
   "metadata": {},
   "source": [
    "Die Homogenität der Varianzen ist eine Annahme für den t-Test für unabhängige Stichproben, die besagt, dass die Varianzen der beiden Gruppen, die verglichen werden, gleich sind. Wenn diese Annahme verletzt wird, kann der t-Test möglicherweise fehlerhafte Ergebnisse liefern.\n",
    "\n",
    "Eine gängige Methode, um die Homogenität der Varianzen zu testen, ist der Levene-Test. Dieser Test prüft, ob die Varianzen zweier oder mehrerer Gruppen signifikant unterschiedlich sind. Der Levene-Test ist robuster gegenüber Abweichungen von der Normalverteilung im Vergleich zum traditionellen F-Test.\n",
    "\n",
    "In Python kannst du den Levene-Test mit der Funktion levene() aus dem Modul scipy.stats durchführen.\n",
    "\n",
    "Levene-Test durchführen: Verwende scipy.stats.levene(), um zu prüfen, ob die Varianzen der Gruppen gleich sind.\n",
    "\n",
    "Ergebnisse interpretieren: Der p-Wert des Tests hilft dir, die Nullhypothese zu überprüfen, die besagt, dass die Varianzen gleich sind.\n",
    "stats.levene(gruppe_1, gruppe_2): Diese Funktion führt den Levene-Test durch und gibt die Teststatistik und den p-Wert zurück.\n",
    "Die Nullhypothese des Levene-Tests besagt, dass die Varianzen gleich sind.\n",
    "Der p-Wert gibt an, ob es genug Beweise gibt, um die Nullhypothese abzulehnen (also ob die Varianzen unterschiedlich sind).\n",
    "\n",
    "Interpretation:\n",
    "Wenn der p-Wert kleiner als das Signifikanzniveau (z.B. 0.05) ist, lehnen wir die Nullhypothese ab und schließen, dass die Varianzen der beiden Gruppen unterschiedlich sind.\n",
    "Wenn der p-Wert größer als 0.05 ist, gibt es keinen signifikanten Unterschied zwischen den Varianzen, und du kannst die Annahme der Homogenität der Varianzen beibehalten.\n"
   ]
  },
  {
   "cell_type": "code",
   "execution_count": 32,
   "id": "63d9fd27-5fd0-4fef-8559-f913fd04397d",
   "metadata": {},
   "outputs": [
    {
     "name": "stdout",
     "output_type": "stream",
     "text": [
      "Levene-Test Statistik: 14.357524234513846\n",
      "P-Wert: 0.00026105335208899465\n",
      "Die Nullhypothese wird abgelehnt. Die Varianzen der Gruppen sind unterschiedlich.\n"
     ]
    }
   ],
   "source": [
    "import numpy as np\n",
    "from scipy import stats\n",
    "\n",
    "# Beispiel-Daten für zwei Gruppen\n",
    "gruppe_1 = uc_ford['price']\n",
    "gruppe_2 = uc_bmw['price']\n",
    "\n",
    "# Führe den Levene-Test zur Prüfung der Homogenität der Varianzen durch\n",
    "stat, p_value = stats.levene(gruppe_1, gruppe_2)\n",
    "\n",
    "# Ausgabe der Ergebnisse\n",
    "print(f\"Levene-Test Statistik: {stat}\")\n",
    "print(f\"P-Wert: {p_value}\")\n",
    "\n",
    "# Interpretation des p-Werts\n",
    "alpha = 0.05  # Signifikanzniveau\n",
    "if p_value < alpha:\n",
    "    print(\"Die Nullhypothese wird abgelehnt. Die Varianzen der Gruppen sind unterschiedlich.\")\n",
    "else:\n",
    "    print(\"Die Nullhypothese wird nicht abgelehnt. Es gibt keine Hinweise auf unterschiedliche Varianzen.\")"
   ]
  },
  {
   "cell_type": "markdown",
   "id": "9649c481-8c5a-4414-8f20-d5b80557db01",
   "metadata": {},
   "source": [
    "Wenn die Varianzen unterschiedlich sind, kannst du den Welch-T-Test verwenden, der eine Anpassung für ungleiche Varianzen vornimmt.\n",
    "\n",
    "Für den Welch-T-Test kannst du ttest_ind() mit dem Argument equal_var=False verwenden:"
   ]
  },
  {
   "cell_type": "code",
   "execution_count": 29,
   "id": "80be04c2-9170-4a6c-b022-88e001103c83",
   "metadata": {},
   "outputs": [],
   "source": [
    "t_stat, p_value = stats.ttest_ind(gruppe_1, gruppe_2, equal_var=False)"
   ]
  }
 ],
 "metadata": {
  "kernelspec": {
   "display_name": "Python 3 (ipykernel)",
   "language": "python",
   "name": "python3"
  },
  "language_info": {
   "codemirror_mode": {
    "name": "ipython",
    "version": 3
   },
   "file_extension": ".py",
   "mimetype": "text/x-python",
   "name": "python",
   "nbconvert_exporter": "python",
   "pygments_lexer": "ipython3",
   "version": "3.13.2"
  }
 },
 "nbformat": 4,
 "nbformat_minor": 5
}
