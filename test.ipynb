{
 "cells": [
  {
   "cell_type": "code",
   "execution_count": null,
   "id": "20ba7985",
   "metadata": {},
   "outputs": [],
   "source": [
    "print('works')"
   ]
  }
 ],
 "metadata": {
  "kernelspec": {
   "display_name": "dsbd",
   "language": "python",
   "name": "python3"
  },
  "language_info": {
   "name": "python",
   "version": "3.10.13"
  }
 },
 "nbformat": 4,
 "nbformat_minor": 5
}
